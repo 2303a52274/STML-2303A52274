{
  "nbformat": 4,
  "nbformat_minor": 0,
  "metadata": {
    "colab": {
      "provenance": [],
      "authorship_tag": "ABX9TyMHXyEahHt+sRN8rE3YaH/b",
      "include_colab_link": true
    },
    "kernelspec": {
      "name": "python3",
      "display_name": "Python 3"
    },
    "language_info": {
      "name": "python"
    }
  },
  "cells": [
    {
      "cell_type": "markdown",
      "metadata": {
        "id": "view-in-github",
        "colab_type": "text"
      },
      "source": [
        "<a href=\"https://colab.research.google.com/github/2303a52274/STML-2303A52274/blob/main/stml_project_2274.ipynb\" target=\"_parent\"><img src=\"https://colab.research.google.com/assets/colab-badge.svg\" alt=\"Open In Colab\"/></a>"
      ]
    },
    {
      "cell_type": "markdown",
      "source": [
        "#STML PROJECT\n",
        "#NAME: L.SRINIVAS REDDY\n",
        "#BATCH: 36\n",
        "#HT.NO: 2303A52274"
      ],
      "metadata": {
        "id": "LZGWUuQG91Ke"
      }
    },
    {
      "cell_type": "markdown",
      "source": [
        "DATA SET: HEART DISEASE PREDICTION"
      ],
      "metadata": {
        "id": "9zR5Hbs3-fgP"
      }
    },
    {
      "cell_type": "code",
      "execution_count": null,
      "metadata": {
        "colab": {
          "base_uri": "https://localhost:8080/"
        },
        "id": "YaciEYw1yfBC",
        "outputId": "34ffd718-7fb8-4db2-e118-3363a8cc4650"
      },
      "outputs": [
        {
          "output_type": "stream",
          "name": "stdout",
          "text": [
            "   age  sex  cp  trestbps  chol  fbs  restecg  thalach  exang  oldpeak  slope  \\\n",
            "0   52    1   0       125   212    0        1      168      0      1.0      2   \n",
            "1   53    1   0       140   203    1        0      155      1      3.1      0   \n",
            "2   70    1   0       145   174    0        1      125      1      2.6      0   \n",
            "3   61    1   0       148   203    0        1      161      0      0.0      2   \n",
            "4   62    0   0       138   294    1        1      106      0      1.9      1   \n",
            "\n",
            "   ca  thal  target  \n",
            "0   2     3       0  \n",
            "1   0     3       0  \n",
            "2   0     3       0  \n",
            "3   1     3       0  \n",
            "4   3     2       0  \n"
          ]
        }
      ],
      "source": [
        "import pandas as pd\n",
        "import numpy as np\n",
        "d=pd.read_csv(\"/content/heart.csv\")\n",
        "print(d.head())\n"
      ]
    },
    {
      "cell_type": "code",
      "source": [
        "X=d.drop('target',axis=1)\n",
        "mle_params={}\n",
        "y=d[\"target\"]\n",
        "print(\"target:\")\n",
        "print(y.head())\n",
        "print(\"shape:\",y.shape)\n",
        "print(\"features:\")\n",
        "print(X.head())"
      ],
      "metadata": {
        "colab": {
          "base_uri": "https://localhost:8080/"
        },
        "id": "jzZ1hgQD0g07",
        "outputId": "7ea47c34-d3ef-497e-dc41-f37ee92a1a98"
      },
      "execution_count": null,
      "outputs": [
        {
          "output_type": "stream",
          "name": "stdout",
          "text": [
            "target:\n",
            "0    0\n",
            "1    0\n",
            "2    0\n",
            "3    0\n",
            "4    0\n",
            "Name: target, dtype: int64\n",
            "shape: (1025,)\n",
            "features:\n",
            "   age  sex  cp  trestbps  chol  fbs  restecg  thalach  exang  oldpeak  slope  \\\n",
            "0   52    1   0       125   212    0        1      168      0      1.0      2   \n",
            "1   53    1   0       140   203    1        0      155      1      3.1      0   \n",
            "2   70    1   0       145   174    0        1      125      1      2.6      0   \n",
            "3   61    1   0       148   203    0        1      161      0      0.0      2   \n",
            "4   62    0   0       138   294    1        1      106      0      1.9      1   \n",
            "\n",
            "   ca  thal  \n",
            "0   2     3  \n",
            "1   0     3  \n",
            "2   0     3  \n",
            "3   1     3  \n",
            "4   3     2  \n"
          ]
        }
      ]
    },
    {
      "cell_type": "code",
      "source": [
        "S=X.replace({'Male':1,'Female':0,'Yes':1,'No':0})\n",
        "print(S)\n",
        "Y=y.replace({'Positive':1,'Negative':0})\n",
        "print(Y)"
      ],
      "metadata": {
        "colab": {
          "base_uri": "https://localhost:8080/"
        },
        "id": "E35bDLYd0vN6",
        "outputId": "a23774eb-160c-431f-f458-f03e2bf82b7f"
      },
      "execution_count": null,
      "outputs": [
        {
          "output_type": "stream",
          "name": "stdout",
          "text": [
            "      age  sex  cp  trestbps  chol  fbs  restecg  thalach  exang  oldpeak  \\\n",
            "0      52    1   0       125   212    0        1      168      0      1.0   \n",
            "1      53    1   0       140   203    1        0      155      1      3.1   \n",
            "2      70    1   0       145   174    0        1      125      1      2.6   \n",
            "3      61    1   0       148   203    0        1      161      0      0.0   \n",
            "4      62    0   0       138   294    1        1      106      0      1.9   \n",
            "...   ...  ...  ..       ...   ...  ...      ...      ...    ...      ...   \n",
            "1020   59    1   1       140   221    0        1      164      1      0.0   \n",
            "1021   60    1   0       125   258    0        0      141      1      2.8   \n",
            "1022   47    1   0       110   275    0        0      118      1      1.0   \n",
            "1023   50    0   0       110   254    0        0      159      0      0.0   \n",
            "1024   54    1   0       120   188    0        1      113      0      1.4   \n",
            "\n",
            "      slope  ca  thal  \n",
            "0         2   2     3  \n",
            "1         0   0     3  \n",
            "2         0   0     3  \n",
            "3         2   1     3  \n",
            "4         1   3     2  \n",
            "...     ...  ..   ...  \n",
            "1020      2   0     2  \n",
            "1021      1   1     3  \n",
            "1022      1   1     2  \n",
            "1023      2   0     2  \n",
            "1024      1   1     3  \n",
            "\n",
            "[1025 rows x 13 columns]\n",
            "0       0\n",
            "1       0\n",
            "2       0\n",
            "3       0\n",
            "4       0\n",
            "       ..\n",
            "1020    1\n",
            "1021    0\n",
            "1022    0\n",
            "1023    1\n",
            "1024    0\n",
            "Name: target, Length: 1025, dtype: int64\n"
          ]
        }
      ]
    },
    {
      "cell_type": "code",
      "source": [
        "from sklearn.model_selection import train_test_split\n",
        "X_train, X_test, y_train, y_test = train_test_split(S, Y , test_size=0.2, random_state=30)\n",
        "print(\"X_train:\",X_train)\n",
        "print(\"X_test:\",X_test)\n",
        "print(\"Y_train:\",y_train)\n",
        "print(\"Y_train:\",y_test)"
      ],
      "metadata": {
        "colab": {
          "base_uri": "https://localhost:8080/"
        },
        "id": "Z5GgpaRy02Is",
        "outputId": "985a1589-ec7e-42cc-ca88-d70bda3cc927"
      },
      "execution_count": null,
      "outputs": [
        {
          "output_type": "stream",
          "name": "stdout",
          "text": [
            "X_train:      age  sex  cp  trestbps  chol  fbs  restecg  thalach  exang  oldpeak  \\\n",
            "579   58    1   0       146   218    0        1      105      0      2.0   \n",
            "117   43    1   0       120   177    0        0      120      1      2.5   \n",
            "884   70    1   0       145   174    0        1      125      1      2.6   \n",
            "61    66    0   2       146   278    0        0      152      0      0.0   \n",
            "636   59    0   0       174   249    0        1      143      1      0.0   \n",
            "..   ...  ...  ..       ...   ...  ...      ...      ...    ...      ...   \n",
            "140   57    1   0       152   274    0        1       88      1      1.2   \n",
            "500   71    0   0       112   149    0        1      125      0      1.6   \n",
            "813   53    1   0       140   203    1        0      155      1      3.1   \n",
            "941   52    0   2       136   196    0        0      169      0      0.1   \n",
            "421   42    0   0       102   265    0        0      122      0      0.6   \n",
            "\n",
            "     slope  ca  thal  \n",
            "579      1   1     3  \n",
            "117      1   0     3  \n",
            "884      0   0     3  \n",
            "61       1   1     2  \n",
            "636      1   0     2  \n",
            "..     ...  ..   ...  \n",
            "140      1   1     3  \n",
            "500      1   0     2  \n",
            "813      0   0     3  \n",
            "941      1   0     2  \n",
            "421      1   0     2  \n",
            "\n",
            "[820 rows x 13 columns]\n",
            "X_test:      age  sex  cp  trestbps  chol  fbs  restecg  thalach  exang  oldpeak  \\\n",
            "288   58    0   2       120   340    0        1      172      0      0.0   \n",
            "132   41    1   1       135   203    0        1      132      0      0.0   \n",
            "127   53    1   2       130   197    1        0      152      0      1.2   \n",
            "485   62    1   1       120   281    0        0      103      0      1.4   \n",
            "834   42    1   0       136   315    0        1      125      1      1.8   \n",
            "..   ...  ...  ..       ...   ...  ...      ...      ...    ...      ...   \n",
            "964   44    0   2       108   141    0        1      175      0      0.6   \n",
            "413   70    1   0       130   322    0        0      109      0      2.4   \n",
            "381   58    1   2       132   224    0        0      173      0      3.2   \n",
            "443   57    1   2       150   168    0        1      174      0      1.6   \n",
            "702   71    0   1       160   302    0        1      162      0      0.4   \n",
            "\n",
            "     slope  ca  thal  \n",
            "288      2   0     2  \n",
            "132      1   0     1  \n",
            "127      0   0     2  \n",
            "485      1   1     3  \n",
            "834      1   0     1  \n",
            "..     ...  ..   ...  \n",
            "964      1   0     2  \n",
            "413      1   3     2  \n",
            "381      2   2     3  \n",
            "443      2   0     2  \n",
            "702      2   2     2  \n",
            "\n",
            "[205 rows x 13 columns]\n",
            "Y_train: 579    0\n",
            "117    0\n",
            "884    0\n",
            "61     1\n",
            "636    0\n",
            "      ..\n",
            "140    0\n",
            "500    1\n",
            "813    0\n",
            "941    1\n",
            "421    1\n",
            "Name: target, Length: 820, dtype: int64\n",
            "Y_train: 288    1\n",
            "132    1\n",
            "127    1\n",
            "485    0\n",
            "834    0\n",
            "      ..\n",
            "964    1\n",
            "413    0\n",
            "381    0\n",
            "443    1\n",
            "702    1\n",
            "Name: target, Length: 205, dtype: int64\n"
          ]
        }
      ]
    },
    {
      "cell_type": "code",
      "source": [
        "from sklearn.linear_model import LogisticRegression\n",
        "LR = LogisticRegression()\n",
        "lr=LR.fit(X_train,y_train)\n",
        "print(\"coefficient:\",lr.coef_)\n",
        "print(\"intercept:\",lr.intercept_)"
      ],
      "metadata": {
        "colab": {
          "base_uri": "https://localhost:8080/"
        },
        "id": "PZ7KW-yL08PZ",
        "outputId": "bdd6f4e8-6c28-419d-d748-c4d9e10865ee"
      },
      "execution_count": null,
      "outputs": [
        {
          "output_type": "stream",
          "name": "stdout",
          "text": [
            "coefficient: [[ 0.00599157 -1.27941206  0.82762559 -0.01235278 -0.00212402 -0.07543275\n",
            "   0.48927829  0.0279657  -0.89467585 -0.48341725  0.58586217 -0.77865341\n",
            "  -0.91540195]]\n",
            "intercept: [0.08376666]\n"
          ]
        },
        {
          "output_type": "stream",
          "name": "stderr",
          "text": [
            "/usr/local/lib/python3.10/dist-packages/sklearn/linear_model/_logistic.py:469: ConvergenceWarning: lbfgs failed to converge (status=1):\n",
            "STOP: TOTAL NO. of ITERATIONS REACHED LIMIT.\n",
            "\n",
            "Increase the number of iterations (max_iter) or scale the data as shown in:\n",
            "    https://scikit-learn.org/stable/modules/preprocessing.html\n",
            "Please also refer to the documentation for alternative solver options:\n",
            "    https://scikit-learn.org/stable/modules/linear_model.html#logistic-regression\n",
            "  n_iter_i = _check_optimize_result(\n"
          ]
        }
      ]
    },
    {
      "cell_type": "code",
      "source": [
        "from sklearn.metrics import accuracy_score,confusion_matrix,classification_report\n",
        "y_pred = lr.predict(X_train)\n",
        "print(\"accuracy:\",accuracy_score(y_train, y_pred))\n",
        "print(\"confusion matrix:\")\n",
        "print(confusion_matrix(y_train,y_pred))\n",
        "print(\"classification report:\")\n",
        "print(classification_report(y_train,y_pred))"
      ],
      "metadata": {
        "colab": {
          "base_uri": "https://localhost:8080/"
        },
        "id": "8mV5AxpU0-GA",
        "outputId": "b806aa31-7782-4da7-cdda-3de02cf682e4"
      },
      "execution_count": null,
      "outputs": [
        {
          "output_type": "stream",
          "name": "stdout",
          "text": [
            "accuracy: 0.8414634146341463\n",
            "confusion matrix:\n",
            "[[307  89]\n",
            " [ 41 383]]\n",
            "classification report:\n",
            "              precision    recall  f1-score   support\n",
            "\n",
            "           0       0.88      0.78      0.83       396\n",
            "           1       0.81      0.90      0.85       424\n",
            "\n",
            "    accuracy                           0.84       820\n",
            "   macro avg       0.85      0.84      0.84       820\n",
            "weighted avg       0.85      0.84      0.84       820\n",
            "\n"
          ]
        }
      ]
    },
    {
      "cell_type": "code",
      "source": [
        "from sklearn.svm import SVC\n",
        "SV= SVC()\n",
        "sv=SV.fit(X_train,y_train)\n",
        "print(\"intercept:\",sv.intercept_)"
      ],
      "metadata": {
        "colab": {
          "base_uri": "https://localhost:8080/"
        },
        "id": "it5OwRuG1E8c",
        "outputId": "0de03d8b-716a-4a84-f3e7-faac140fec91"
      },
      "execution_count": null,
      "outputs": [
        {
          "output_type": "stream",
          "name": "stdout",
          "text": [
            "intercept: [0.37835577]\n"
          ]
        }
      ]
    },
    {
      "cell_type": "code",
      "source": [
        "from sklearn.metrics import accuracy_score,confusion_matrix,classification_report\n",
        "y_pred = sv.predict(X_train)\n",
        "print(\"accuracy:\",accuracy_score(y_train, y_pred))\n",
        "print(\"confusion matrix:\")\n",
        "print(confusion_matrix(y_train,y_pred))\n",
        "print(\"classification report:\")\n",
        "print(classification_report(y_train,y_pred))"
      ],
      "metadata": {
        "colab": {
          "base_uri": "https://localhost:8080/"
        },
        "id": "k06kvceO1IOB",
        "outputId": "cfcf3a26-da79-428b-84ef-dcf21491c31d"
      },
      "execution_count": null,
      "outputs": [
        {
          "output_type": "stream",
          "name": "stdout",
          "text": [
            "accuracy: 0.7097560975609756\n",
            "confusion matrix:\n",
            "[[247 149]\n",
            " [ 89 335]]\n",
            "classification report:\n",
            "              precision    recall  f1-score   support\n",
            "\n",
            "           0       0.74      0.62      0.67       396\n",
            "           1       0.69      0.79      0.74       424\n",
            "\n",
            "    accuracy                           0.71       820\n",
            "   macro avg       0.71      0.71      0.71       820\n",
            "weighted avg       0.71      0.71      0.71       820\n",
            "\n"
          ]
        }
      ]
    },
    {
      "cell_type": "code",
      "source": [
        "from sklearn.linear_model import Perceptron\n",
        "PR= Perceptron()\n",
        "pr=PR.fit(X_train,y_train)\n",
        "print(\"intercept:\",pr.intercept_)\n",
        "print(\"coefficient:\",pr.coef_)"
      ],
      "metadata": {
        "colab": {
          "base_uri": "https://localhost:8080/"
        },
        "id": "aMiFPmhM1Nb6",
        "outputId": "ffa26ceb-736c-45c4-a42c-f826128373a1"
      },
      "execution_count": null,
      "outputs": [
        {
          "output_type": "stream",
          "name": "stdout",
          "text": [
            "intercept: [-47.]\n",
            "coefficient: [[ -791.   -725.   1864.   -503.   -383.     40.    121.   1630.   -821.\n",
            "  -1768.1   595.  -1583.  -1171. ]]\n"
          ]
        }
      ]
    },
    {
      "cell_type": "code",
      "source": [
        "from sklearn.metrics import accuracy_score\n",
        "y_pred = pr.predict(X_train)\n",
        "print(\"accuracy:\",accuracy_score(y_train, y_pred))\n",
        "print(\"confusion matrix:\")\n",
        "print(confusion_matrix(y_train,y_pred))\n",
        "print(\"classification report:\")\n",
        "print(classification_report(y_train,y_pred))"
      ],
      "metadata": {
        "colab": {
          "base_uri": "https://localhost:8080/"
        },
        "id": "rCpYTyJ31Q_K",
        "outputId": "8a6a010a-143e-4655-ead1-0eaf9026faa3"
      },
      "execution_count": null,
      "outputs": [
        {
          "output_type": "stream",
          "name": "stdout",
          "text": [
            "accuracy: 0.6451219512195122\n",
            "confusion matrix:\n",
            "[[146 250]\n",
            " [ 41 383]]\n",
            "classification report:\n",
            "              precision    recall  f1-score   support\n",
            "\n",
            "           0       0.78      0.37      0.50       396\n",
            "           1       0.61      0.90      0.72       424\n",
            "\n",
            "    accuracy                           0.65       820\n",
            "   macro avg       0.69      0.64      0.61       820\n",
            "weighted avg       0.69      0.65      0.62       820\n",
            "\n"
          ]
        }
      ]
    },
    {
      "cell_type": "code",
      "source": [
        "from sklearn.neighbors import KNeighborsClassifier\n",
        "from sklearn.metrics import accuracy_score,classification_report,confusion_matrix\n",
        "kn = KNeighborsClassifier()\n",
        "KN=kn.fit(X_train,y_train)\n",
        "y_pred=KN.predict(X_test)\n",
        "print(\"accuracy:\",accuracy_score(y_test,y_pred))\n",
        "print(\"confusion_matrix:\",confusion_matrix(y_test,y_pred))\n",
        "print(\"classification_report:\",classification_report(y_test,y_pred))"
      ],
      "metadata": {
        "colab": {
          "base_uri": "https://localhost:8080/"
        },
        "id": "SQFgLY-R1VIm",
        "outputId": "744a49db-8dff-4c13-f63b-719ae6b8e27e"
      },
      "execution_count": null,
      "outputs": [
        {
          "output_type": "stream",
          "name": "stdout",
          "text": [
            "accuracy: 0.7463414634146341\n",
            "confusion_matrix: [[81 22]\n",
            " [30 72]]\n",
            "classification_report:               precision    recall  f1-score   support\n",
            "\n",
            "           0       0.73      0.79      0.76       103\n",
            "           1       0.77      0.71      0.73       102\n",
            "\n",
            "    accuracy                           0.75       205\n",
            "   macro avg       0.75      0.75      0.75       205\n",
            "weighted avg       0.75      0.75      0.75       205\n",
            "\n"
          ]
        }
      ]
    },
    {
      "cell_type": "code",
      "source": [
        "from sklearn.decomposition import PCA\n",
        "pca = PCA(n_components=0.95)\n",
        "X_train_pca = pca.fit_transform(X_train)\n",
        "X_test_pca = pca.transform(X_test)"
      ],
      "metadata": {
        "id": "XKKo3Leb1ZDb"
      },
      "execution_count": null,
      "outputs": []
    },
    {
      "cell_type": "code",
      "source": [
        "from sklearn.svm import SVC\n",
        "ss = SVC()\n",
        "mm=ss.fit(X_train_pca,y_train)\n",
        "print(\"intercept:\",mm.intercept_)"
      ],
      "metadata": {
        "colab": {
          "base_uri": "https://localhost:8080/"
        },
        "id": "vSLLqB801cb-",
        "outputId": "da4d6e85-030e-4e39-8d0e-3cb61e1d33b8"
      },
      "execution_count": null,
      "outputs": [
        {
          "output_type": "stream",
          "name": "stdout",
          "text": [
            "intercept: [0.03903232]\n"
          ]
        }
      ]
    },
    {
      "cell_type": "code",
      "source": [
        "from sklearn.metrics import accuracy_score\n",
        "y_pred = mm.predict(X_train_pca)\n",
        "print(\"accuracy:\",accuracy_score(y_train, y_pred))"
      ],
      "metadata": {
        "colab": {
          "base_uri": "https://localhost:8080/"
        },
        "id": "-JYmHSYy1j2U",
        "outputId": "7c7fd9c7-775c-4f01-9dac-2ab9a72521ea"
      },
      "execution_count": null,
      "outputs": [
        {
          "output_type": "stream",
          "name": "stdout",
          "text": [
            "accuracy: 0.7097560975609756\n"
          ]
        }
      ]
    },
    {
      "cell_type": "code",
      "source": [
        "from sklearn.linear_model import LogisticRegression\n",
        "ss = LogisticRegression()\n",
        "mm=ss.fit(X_train_pca,y_train)\n",
        "print(\"coefficient:\",mm.coef_)\n",
        "print(\"intercept:\",mm.intercept_)"
      ],
      "metadata": {
        "colab": {
          "base_uri": "https://localhost:8080/"
        },
        "id": "aGyEu_hX1obI",
        "outputId": "8b8d28d1-6537-433c-df5a-3e52645c3948"
      },
      "execution_count": null,
      "outputs": [
        {
          "output_type": "stream",
          "name": "stdout",
          "text": [
            "coefficient: [[-0.00408413  0.04454196 -0.01034264]]\n",
            "intercept: [0.05980162]\n"
          ]
        }
      ]
    },
    {
      "cell_type": "code",
      "source": [
        "from sklearn.metrics import accuracy_score\n",
        "y_pred = mm.predict(X_train_pca)\n",
        "print(\"accuracy:\",accuracy_score(y_train, y_pred))"
      ],
      "metadata": {
        "colab": {
          "base_uri": "https://localhost:8080/"
        },
        "id": "zXa5PtLq1tNm",
        "outputId": "9aa487d6-ab4f-4c15-a0ce-2cd1804cc535"
      },
      "execution_count": null,
      "outputs": [
        {
          "output_type": "stream",
          "name": "stdout",
          "text": [
            "accuracy: 0.7\n"
          ]
        }
      ]
    },
    {
      "cell_type": "code",
      "source": [
        "from sklearn.linear_model import Perceptron\n",
        "ss = Perceptron()\n",
        "mm=ss.fit(X_train_pca,y_train)\n",
        "print(\"coefficient:\",mm.coef_)\n",
        "print(\"intercept:\",mm.intercept_)"
      ],
      "metadata": {
        "colab": {
          "base_uri": "https://localhost:8080/"
        },
        "id": "dB64rrqQ1vh7",
        "outputId": "acce1c5c-74c7-40b6-cd17-475decbc12ad"
      },
      "execution_count": null,
      "outputs": [
        {
          "output_type": "stream",
          "name": "stdout",
          "text": [
            "coefficient: [[10.08523878 42.75581305 14.89656196]]\n",
            "intercept: [18.]\n"
          ]
        }
      ]
    },
    {
      "cell_type": "code",
      "source": [
        "from sklearn.metrics import accuracy_score\n",
        "y_pred = mm.predict(X_train_pca)\n",
        "print(\"accuracy:\",accuracy_score(y_train, y_pred))"
      ],
      "metadata": {
        "colab": {
          "base_uri": "https://localhost:8080/"
        },
        "id": "pUqoOAgq11qu",
        "outputId": "f935fb1c-4b23-424a-e04b-9a343a6dffbb"
      },
      "execution_count": null,
      "outputs": [
        {
          "output_type": "stream",
          "name": "stdout",
          "text": [
            "accuracy: 0.65\n"
          ]
        }
      ]
    },
    {
      "cell_type": "code",
      "source": [
        "from sklearn.neighbors import KNeighborsClassifier\n",
        "from sklearn.metrics import accuracy_score\n",
        "ss = KNeighborsClassifier()\n",
        "mm=ss.fit(X_train_pca,y_train)\n",
        "y_pred=mm.predict(X_test_pca)\n",
        "print(\"accuracy:\",accuracy_score(y_test,y_pred))"
      ],
      "metadata": {
        "colab": {
          "base_uri": "https://localhost:8080/"
        },
        "id": "Ykg5NBw815eU",
        "outputId": "651fe8bf-3d84-4496-b620-ca114515b08f"
      },
      "execution_count": null,
      "outputs": [
        {
          "output_type": "stream",
          "name": "stdout",
          "text": [
            "accuracy: 0.7560975609756098\n"
          ]
        }
      ]
    },
    {
      "cell_type": "code",
      "source": [
        "from sklearn.utils import resample"
      ],
      "metadata": {
        "id": "sDy5k2Sq2BrO"
      },
      "execution_count": null,
      "outputs": []
    },
    {
      "cell_type": "code",
      "source": [
        "n_iterations = 10\n",
        "accuracies_score_svm = []\n",
        "for _ in range(n_iterations):\n",
        "    X_train_bootstrap, y_train_bootstrap = resample(S, Y, replace=True, n_samples=len(S))\n",
        "    ss = SVC()\n",
        "    mm = ss.fit(X_train_bootstrap, y_train_bootstrap)\n",
        "    y_pred = mm.predict(X_test)\n",
        "    accuracy = accuracy_score(y_test, y_pred)\n",
        "    accuracies_score_svm.append(accuracy)\n",
        "print(accuracies_score_svm)"
      ],
      "metadata": {
        "colab": {
          "base_uri": "https://localhost:8080/"
        },
        "id": "CFhw6UGD2HZb",
        "outputId": "949df1d1-5ca1-4f7f-f98c-54c06574efd0"
      },
      "execution_count": null,
      "outputs": [
        {
          "output_type": "stream",
          "name": "stdout",
          "text": [
            "[0.7219512195121951, 0.7365853658536585, 0.7268292682926829, 0.7414634146341463, 0.7365853658536585, 0.7219512195121951, 0.7219512195121951, 0.7365853658536585, 0.7268292682926829, 0.7268292682926829]\n"
          ]
        }
      ]
    },
    {
      "cell_type": "code",
      "source": [
        "n_iterations = 10\n",
        "accuracies_score_per = []\n",
        "for _ in range(n_iterations):\n",
        "    X_train_bootstrap, y_train_bootstrap = resample(S, Y, replace=True, n_samples=len(S))\n",
        "    ss = Perceptron()\n",
        "    mm = ss.fit(X_train_bootstrap, y_train_bootstrap)\n",
        "    y_pred = mm.predict(X_test)\n",
        "    accuracy = accuracy_score(y_test, y_pred)\n",
        "    accuracies_score_per.append(accuracy)\n",
        "print(accuracies_score_per)"
      ],
      "metadata": {
        "colab": {
          "base_uri": "https://localhost:8080/"
        },
        "id": "GYgmhcU12LOx",
        "outputId": "31bb1212-edc0-4e5e-aad6-fd6e83193eec"
      },
      "execution_count": null,
      "outputs": [
        {
          "output_type": "stream",
          "name": "stdout",
          "text": [
            "[0.4975609756097561, 0.6, 0.7219512195121951, 0.7414634146341463, 0.5121951219512195, 0.697560975609756, 0.7073170731707317, 0.7317073170731707, 0.5609756097560976, 0.697560975609756]\n"
          ]
        }
      ]
    },
    {
      "cell_type": "code",
      "source": [
        "n_iterations = 10\n",
        "accuracies_score_lr = []\n",
        "for _ in range(n_iterations):\n",
        "    X_train_bootstrap, y_train_bootstrap = resample(S, Y, replace=True, n_samples=len(S))\n",
        "    lr = LogisticRegression()\n",
        "    LR = lr.fit(X_train_bootstrap, y_train_bootstrap)\n",
        "    y_pred = LR.predict(X_test)\n",
        "    accuracy = accuracy_score(y_test, y_pred)\n",
        "    accuracies_score_lr.append(accuracy)\n",
        "print(accuracies_score_lr)"
      ],
      "metadata": {
        "colab": {
          "base_uri": "https://localhost:8080/"
        },
        "id": "YKc6qWl32On1",
        "outputId": "eb5e10f3-4e34-4f9c-e744-7c7d4551fb7c"
      },
      "execution_count": null,
      "outputs": [
        {
          "output_type": "stream",
          "name": "stderr",
          "text": [
            "/usr/local/lib/python3.10/dist-packages/sklearn/linear_model/_logistic.py:469: ConvergenceWarning: lbfgs failed to converge (status=1):\n",
            "STOP: TOTAL NO. of ITERATIONS REACHED LIMIT.\n",
            "\n",
            "Increase the number of iterations (max_iter) or scale the data as shown in:\n",
            "    https://scikit-learn.org/stable/modules/preprocessing.html\n",
            "Please also refer to the documentation for alternative solver options:\n",
            "    https://scikit-learn.org/stable/modules/linear_model.html#logistic-regression\n",
            "  n_iter_i = _check_optimize_result(\n",
            "/usr/local/lib/python3.10/dist-packages/sklearn/linear_model/_logistic.py:469: ConvergenceWarning: lbfgs failed to converge (status=1):\n",
            "STOP: TOTAL NO. of ITERATIONS REACHED LIMIT.\n",
            "\n",
            "Increase the number of iterations (max_iter) or scale the data as shown in:\n",
            "    https://scikit-learn.org/stable/modules/preprocessing.html\n",
            "Please also refer to the documentation for alternative solver options:\n",
            "    https://scikit-learn.org/stable/modules/linear_model.html#logistic-regression\n",
            "  n_iter_i = _check_optimize_result(\n",
            "/usr/local/lib/python3.10/dist-packages/sklearn/linear_model/_logistic.py:469: ConvergenceWarning: lbfgs failed to converge (status=1):\n",
            "STOP: TOTAL NO. of ITERATIONS REACHED LIMIT.\n",
            "\n",
            "Increase the number of iterations (max_iter) or scale the data as shown in:\n",
            "    https://scikit-learn.org/stable/modules/preprocessing.html\n",
            "Please also refer to the documentation for alternative solver options:\n",
            "    https://scikit-learn.org/stable/modules/linear_model.html#logistic-regression\n",
            "  n_iter_i = _check_optimize_result(\n",
            "/usr/local/lib/python3.10/dist-packages/sklearn/linear_model/_logistic.py:469: ConvergenceWarning: lbfgs failed to converge (status=1):\n",
            "STOP: TOTAL NO. of ITERATIONS REACHED LIMIT.\n",
            "\n",
            "Increase the number of iterations (max_iter) or scale the data as shown in:\n",
            "    https://scikit-learn.org/stable/modules/preprocessing.html\n",
            "Please also refer to the documentation for alternative solver options:\n",
            "    https://scikit-learn.org/stable/modules/linear_model.html#logistic-regression\n",
            "  n_iter_i = _check_optimize_result(\n",
            "/usr/local/lib/python3.10/dist-packages/sklearn/linear_model/_logistic.py:469: ConvergenceWarning: lbfgs failed to converge (status=1):\n",
            "STOP: TOTAL NO. of ITERATIONS REACHED LIMIT.\n",
            "\n",
            "Increase the number of iterations (max_iter) or scale the data as shown in:\n",
            "    https://scikit-learn.org/stable/modules/preprocessing.html\n",
            "Please also refer to the documentation for alternative solver options:\n",
            "    https://scikit-learn.org/stable/modules/linear_model.html#logistic-regression\n",
            "  n_iter_i = _check_optimize_result(\n",
            "/usr/local/lib/python3.10/dist-packages/sklearn/linear_model/_logistic.py:469: ConvergenceWarning: lbfgs failed to converge (status=1):\n",
            "STOP: TOTAL NO. of ITERATIONS REACHED LIMIT.\n",
            "\n",
            "Increase the number of iterations (max_iter) or scale the data as shown in:\n",
            "    https://scikit-learn.org/stable/modules/preprocessing.html\n",
            "Please also refer to the documentation for alternative solver options:\n",
            "    https://scikit-learn.org/stable/modules/linear_model.html#logistic-regression\n",
            "  n_iter_i = _check_optimize_result(\n",
            "/usr/local/lib/python3.10/dist-packages/sklearn/linear_model/_logistic.py:469: ConvergenceWarning: lbfgs failed to converge (status=1):\n",
            "STOP: TOTAL NO. of ITERATIONS REACHED LIMIT.\n",
            "\n",
            "Increase the number of iterations (max_iter) or scale the data as shown in:\n",
            "    https://scikit-learn.org/stable/modules/preprocessing.html\n",
            "Please also refer to the documentation for alternative solver options:\n",
            "    https://scikit-learn.org/stable/modules/linear_model.html#logistic-regression\n",
            "  n_iter_i = _check_optimize_result(\n",
            "/usr/local/lib/python3.10/dist-packages/sklearn/linear_model/_logistic.py:469: ConvergenceWarning: lbfgs failed to converge (status=1):\n",
            "STOP: TOTAL NO. of ITERATIONS REACHED LIMIT.\n",
            "\n",
            "Increase the number of iterations (max_iter) or scale the data as shown in:\n",
            "    https://scikit-learn.org/stable/modules/preprocessing.html\n",
            "Please also refer to the documentation for alternative solver options:\n",
            "    https://scikit-learn.org/stable/modules/linear_model.html#logistic-regression\n",
            "  n_iter_i = _check_optimize_result(\n",
            "/usr/local/lib/python3.10/dist-packages/sklearn/linear_model/_logistic.py:469: ConvergenceWarning: lbfgs failed to converge (status=1):\n",
            "STOP: TOTAL NO. of ITERATIONS REACHED LIMIT.\n",
            "\n",
            "Increase the number of iterations (max_iter) or scale the data as shown in:\n",
            "    https://scikit-learn.org/stable/modules/preprocessing.html\n",
            "Please also refer to the documentation for alternative solver options:\n",
            "    https://scikit-learn.org/stable/modules/linear_model.html#logistic-regression\n",
            "  n_iter_i = _check_optimize_result(\n"
          ]
        },
        {
          "output_type": "stream",
          "name": "stdout",
          "text": [
            "[0.8682926829268293, 0.8390243902439024, 0.8585365853658536, 0.848780487804878, 0.8829268292682927, 0.8585365853658536, 0.8731707317073171, 0.8731707317073171, 0.8585365853658536, 0.8439024390243902]\n"
          ]
        },
        {
          "output_type": "stream",
          "name": "stderr",
          "text": [
            "/usr/local/lib/python3.10/dist-packages/sklearn/linear_model/_logistic.py:469: ConvergenceWarning: lbfgs failed to converge (status=1):\n",
            "STOP: TOTAL NO. of ITERATIONS REACHED LIMIT.\n",
            "\n",
            "Increase the number of iterations (max_iter) or scale the data as shown in:\n",
            "    https://scikit-learn.org/stable/modules/preprocessing.html\n",
            "Please also refer to the documentation for alternative solver options:\n",
            "    https://scikit-learn.org/stable/modules/linear_model.html#logistic-regression\n",
            "  n_iter_i = _check_optimize_result(\n"
          ]
        }
      ]
    },
    {
      "cell_type": "code",
      "source": [
        "n_iterations = 10\n",
        "accuracies_score_knn = []\n",
        "for _ in range(n_iterations):\n",
        "    X_train_bootstrap, y_train_bootstrap = resample(S, Y, replace=True, n_samples=len(S))\n",
        "    kn = KNeighborsClassifier()\n",
        "    KN = kn.fit(X_train_bootstrap, y_train_bootstrap)\n",
        "    y_pred = KN.predict(X_test)\n",
        "    accuracy = accuracy_score(y_test, y_pred)\n",
        "    accuracies_score_knn.append(accuracy)\n",
        "print(accuracies_score_knn)"
      ],
      "metadata": {
        "colab": {
          "base_uri": "https://localhost:8080/"
        },
        "id": "g4Tsk7aS2UU0",
        "outputId": "c1432032-4322-4fa1-bdb0-aad16ee54e17"
      },
      "execution_count": null,
      "outputs": [
        {
          "output_type": "stream",
          "name": "stdout",
          "text": [
            "[0.8878048780487805, 0.848780487804878, 0.8682926829268293, 0.8585365853658536, 0.8878048780487805, 0.8439024390243902, 0.8731707317073171, 0.8341463414634146, 0.8439024390243902, 0.9024390243902439]\n"
          ]
        }
      ]
    },
    {
      "cell_type": "code",
      "source": [
        "import matplotlib.pyplot as plt\n",
        "plt.figure(figsize=(10,6))\n",
        "plt.plot( accuracies_score_svm, color='blue', label='SVM')\n",
        "plt.plot(accuracies_score_per,color='violet',label='Perceprron')\n",
        "plt.plot(accuracies_score_lr, color='red', label='Logistic Regression')\n",
        "plt.plot(accuracies_score_knn, color='green', label='KNN')\n",
        "plt.xlabel('Iteration')\n",
        "plt.ylabel('Accuracy')\n",
        "plt.title('Accuracy of Different Models over Bootstrap Iterations')\n",
        "plt.legend()\n",
        "plt.show()"
      ],
      "metadata": {
        "colab": {
          "base_uri": "https://localhost:8080/",
          "height": 419
        },
        "id": "u4xBBpce2WvL",
        "outputId": "772e24f5-fdf4-4535-aec8-7e9f69737328"
      },
      "execution_count": null,
      "outputs": [
        {
          "output_type": "display_data",
          "data": {
            "text/plain": [
              "<Figure size 1000x600 with 1 Axes>"
            ],
            "image/png": "[encoded data removed]"
          },
          "metadata": {}
        }
      ]
    }
  ]
}