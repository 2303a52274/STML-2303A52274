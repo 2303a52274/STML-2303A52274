{
  "nbformat": 4,
  "nbformat_minor": 0,
  "metadata": {
    "colab": {
      "provenance": [],
      "authorship_tag": "ABX9TyMGCFvQSFT2nQMQ+fs8fCgX",
      "include_colab_link": true
    },
    "kernelspec": {
      "name": "python3",
      "display_name": "Python 3"
    },
    "language_info": {
      "name": "python"
    }
  },
  "cells": [
    {
      "cell_type": "markdown",
      "metadata": {
        "id": "view-in-github",
        "colab_type": "text"
      },
      "source": [
        "<a href=\"https://colab.research.google.com/github/2303a52274/STML-2303A52274/blob/main/STML%20ASS_11.ipynb\" target=\"_parent\"><img src=\"https://colab.research.google.com/assets/colab-badge.svg\" alt=\"Open In Colab\"/></a>"
      ]
    },
    {
      "cell_type": "code",
      "execution_count": 1,
      "metadata": {
        "colab": {
          "base_uri": "https://localhost:8080/"
        },
        "id": "aoDf7vaJv92V",
        "outputId": "8cd73eab-5dfa-41f1-8393-f2ccf9941bc4"
      },
      "outputs": [
        {
          "output_type": "stream",
          "name": "stdout",
          "text": [
            "Features: Index(['Age', 'Gender', 'Protein1', 'Protein2', 'Protein3', 'Protein4',\n",
            "       'Tumour_Stage', 'Histology', 'ER status', 'PR status', 'HER2 status',\n",
            "       'Surgery_type', 'Date_of_Surgery', 'Date_of_Last_Visit'],\n",
            "      dtype='object')\n",
            "Target variable: Patient_Status\n"
          ]
        }
      ],
      "source": [
        "import pandas as pd\n",
        "from sklearn.preprocessing import LabelEncoder\n",
        "\n",
        "data = pd.read_csv(\"/content/breast_cancer_survival[1].csv\")\n",
        "data = data.dropna()\n",
        "\n",
        "X = data.iloc[:, :-1]\n",
        "y = data.iloc[:, -1]\n",
        "\n",
        "for column in X.select_dtypes(include=['object']).columns:\n",
        " le = LabelEncoder()\n",
        " X[column] = le.fit_transform(X[column])\n",
        "\n",
        "print(\"Features:\", X.columns)\n",
        "print(\"Target variable:\", y.name)"
      ]
    },
    {
      "cell_type": "code",
      "source": [
        "from sklearn.model_selection import train_test_split\n",
        "from sklearn.neighbors import KNeighborsClassifier\n",
        "from sklearn.metrics import accuracy_score\n",
        "from sklearn.preprocessing import StandardScaler"
      ],
      "metadata": {
        "id": "3-CdBzzqxO5v"
      },
      "execution_count": 2,
      "outputs": []
    },
    {
      "cell_type": "code",
      "source": [
        "\n",
        "scaler = StandardScaler()\n",
        "test_sizes = [20, 25, 30, 35]"
      ],
      "metadata": {
        "id": "Mr9hOodgxVZl"
      },
      "execution_count": 3,
      "outputs": []
    },
    {
      "cell_type": "code",
      "source": [
        "for test_size in test_sizes:\n",
        " split = test_size / 100.0\n",
        " X_train, X_test, y_train, y_test = train_test_split(X, y, test_size=split, random_state=42)\n",
        " X_train = scaler.fit_transform(X_train)\n",
        " X_test = scaler.transform(X_test)\n",
        "\n",
        "knn = KNeighborsClassifier(n_neighbors=5)\n",
        "knn.fit(X_train, y_train)\n",
        "y_pred = knn.predict(X_test)\n",
        "accuracy = accuracy_score(y_test, y_pred)\n",
        "print(f\"KNN Accuracy with test size {test_size}%: {accuracy:.2f}\")"
      ],
      "metadata": {
        "colab": {
          "base_uri": "https://localhost:8080/"
        },
        "id": "iZNtd8zSxacn",
        "outputId": "702181fc-4c39-4099-cd29-c83c305620c5"
      },
      "execution_count": 4,
      "outputs": [
        {
          "output_type": "stream",
          "name": "stdout",
          "text": [
            "KNN Accuracy with test size 35%: 0.80\n"
          ]
        }
      ]
    },
    {
      "cell_type": "code",
      "source": [
        "from sklearn.svm import SVC\n",
        "\n",
        "# Train SVM model and evaluate accuracy with different test sizes\n",
        "for test_size in test_sizes:\n",
        " split = test_size / 100.0\n",
        " X_train, X_test, y_train, y_test = train_test_split(X, y, test_size=split, random_state=42)\n",
        " X_train = scaler.fit_transform(X_train)\n",
        " X_test = scaler.transform(X_test)\n",
        "\n",
        " svm = SVC(kernel='linear', max_iter=1000)\n",
        " svm.fit(X_train, y_train)\n",
        " y_pred = svm.predict(X_test)\n",
        " accuracy = accuracy_score(y_test, y_pred)\n",
        " print(f\"SVM Accuracy with test size {test_size}%: {accuracy:.2f}\")"
      ],
      "metadata": {
        "colab": {
          "base_uri": "https://localhost:8080/"
        },
        "id": "jhcKwuDtxfM2",
        "outputId": "7b1c48c9-890e-4cf3-90d4-5d00d4a01d4d"
      },
      "execution_count": 5,
      "outputs": [
        {
          "output_type": "stream",
          "name": "stdout",
          "text": [
            "SVM Accuracy with test size 20%: 0.80\n",
            "SVM Accuracy with test size 25%: 0.79\n",
            "SVM Accuracy with test size 30%: 0.79\n",
            "SVM Accuracy with test size 35%: 0.81\n"
          ]
        }
      ]
    },
    {
      "cell_type": "code",
      "source": [
        "from sklearn.linear_model import LogisticRegression\n",
        "for test_size in test_sizes:\n",
        " split = test_size / 100.0\n",
        " X_train, X_test, y_train, y_test = train_test_split(X, y, test_size=split, random_state=42)\n",
        " X_train = scaler.fit_transform(X_train)\n",
        " X_test = scaler.transform(X_test)\n",
        "\n",
        " log_reg = LogisticRegression(max_iter=1000)\n",
        " log_reg.fit(X_train, y_train)\n",
        " y_pred = log_reg.predict(X_test)\n",
        " accuracy = accuracy_score(y_test, y_pred)\n",
        " print(f\"Logistic Regression Accuracy with test size {test_size}%: {accuracy:.2f}\")"
      ],
      "metadata": {
        "colab": {
          "base_uri": "https://localhost:8080/"
        },
        "id": "iXBLBKwox10R",
        "outputId": "9e27bee8-e97b-4d53-f13a-6a82fbfb78ca"
      },
      "execution_count": 6,
      "outputs": [
        {
          "output_type": "stream",
          "name": "stdout",
          "text": [
            "Logistic Regression Accuracy with test size 20%: 0.78\n",
            "Logistic Regression Accuracy with test size 25%: 0.78\n",
            "Logistic Regression Accuracy with test size 30%: 0.78\n",
            "Logistic Regression Accuracy with test size 35%: 0.81\n"
          ]
        }
      ]
    },
    {
      "cell_type": "code",
      "source": [
        "from sklearn.decomposition import PCA\n",
        "\n",
        "pca = PCA(n_components=5)\n",
        "X_reduced = pca.fit_transform(X)\n",
        "\n",
        "for test_size in test_sizes:\n",
        " split = test_size / 100.0\n",
        "\n",
        " X_train, X_test, y_train, y_test = train_test_split(X_reduced, y, test_size=split,\n",
        "random_state=42)\n",
        "\n",
        " knn.fit(X_train, y_train)\n",
        " y_pred = knn.predict(X_test)\n",
        " accuracy = accuracy_score(y_test, y_pred)\n",
        " print(f\"KNN with PCA Accuracy (test size {test_size}%): {accuracy:.2f}\")\n",
        "\n",
        " svm.fit(X_train, y_train)\n",
        " y_pred = svm.predict(X_test)\n",
        " accuracy = accuracy_score(y_test, y_pred)\n",
        " print(f\"SVM with PCA Accuracy (test size {test_size}%): {accuracy:.2f}\")\n",
        "\n",
        " log_reg.fit(X_train, y_train)\n",
        " y_pred = log_reg.predict(X_test)\n",
        " accuracy = accuracy_score(y_test, y_pred)\n",
        " print(f\"Logistic Regression with PCA Accuracy (test size {test_size}%): {accuracy:.2f}\")"
      ],
      "metadata": {
        "colab": {
          "base_uri": "https://localhost:8080/"
        },
        "id": "HrvO_2J7x7Gl",
        "outputId": "2721b6f3-19ea-47da-bf05-1388340b3101"
      },
      "execution_count": 7,
      "outputs": [
        {
          "output_type": "stream",
          "name": "stdout",
          "text": [
            "KNN with PCA Accuracy (test size 20%): 0.81\n",
            "SVM with PCA Accuracy (test size 20%): 0.66\n",
            "Logistic Regression with PCA Accuracy (test size 20%): 0.80\n",
            "KNN with PCA Accuracy (test size 25%): 0.82\n",
            "SVM with PCA Accuracy (test size 25%): 0.56\n",
            "Logistic Regression with PCA Accuracy (test size 25%): 0.79\n",
            "KNN with PCA Accuracy (test size 30%): 0.81\n",
            "SVM with PCA Accuracy (test size 30%): 0.41\n",
            "Logistic Regression with PCA Accuracy (test size 30%): 0.79\n",
            "KNN with PCA Accuracy (test size 35%): 0.82\n",
            "SVM with PCA Accuracy (test size 35%): 0.34\n",
            "Logistic Regression with PCA Accuracy (test size 35%): 0.81\n"
          ]
        },
        {
          "output_type": "stream",
          "name": "stderr",
          "text": [
            "/usr/local/lib/python3.10/dist-packages/sklearn/svm/_base.py:297: ConvergenceWarning: Solver terminated early (max_iter=1000).  Consider pre-processing your data with StandardScaler or MinMaxScaler.\n",
            "  warnings.warn(\n",
            "/usr/local/lib/python3.10/dist-packages/sklearn/svm/_base.py:297: ConvergenceWarning: Solver terminated early (max_iter=1000).  Consider pre-processing your data with StandardScaler or MinMaxScaler.\n",
            "  warnings.warn(\n",
            "/usr/local/lib/python3.10/dist-packages/sklearn/svm/_base.py:297: ConvergenceWarning: Solver terminated early (max_iter=1000).  Consider pre-processing your data with StandardScaler or MinMaxScaler.\n",
            "  warnings.warn(\n",
            "/usr/local/lib/python3.10/dist-packages/sklearn/svm/_base.py:297: ConvergenceWarning: Solver terminated early (max_iter=1000).  Consider pre-processing your data with StandardScaler or MinMaxScaler.\n",
            "  warnings.warn(\n"
          ]
        }
      ]
    }
  ]
}