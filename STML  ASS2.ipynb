{
  "nbformat": 4,
  "nbformat_minor": 0,
  "metadata": {
    "colab": {
      "provenance": [],
      "authorship_tag": "ABX9TyPM0t1MgP7oL+HUqG8N78xO",
      "include_colab_link": true
    },
    "kernelspec": {
      "name": "python3",
      "display_name": "Python 3"
    },
    "language_info": {
      "name": "python"
    }
  },
  "cells": [
    {
      "cell_type": "markdown",
      "metadata": {
        "id": "view-in-github",
        "colab_type": "text"
      },
      "source": [
        "<a href=\"https://colab.research.google.com/github/2303a52274/STML-2303A52274/blob/main/STML%20%20ASS2.ipynb\" target=\"_parent\"><img src=\"https://colab.research.google.com/assets/colab-badge.svg\" alt=\"Open In Colab\"/></a>"
      ]
    },
    {
      "cell_type": "code",
      "execution_count": 1,
      "metadata": {
        "colab": {
          "base_uri": "https://localhost:8080/"
        },
        "id": "CI4eYLK9lZia",
        "outputId": "6f999596-de04-4a5c-8a16-1e6a6fe0a775"
      },
      "outputs": [
        {
          "output_type": "execute_result",
          "data": {
            "text/plain": [
              "86400"
            ]
          },
          "metadata": {},
          "execution_count": 1
        }
      ],
      "source": [
        "seconds_in_a_day = 24 * 60 * 60\n",
        "seconds_in_a_day"
      ]
    },
    {
      "cell_type": "code",
      "source": [
        "seconds_in_a_week = 7 * seconds_in_a_day\n",
        "seconds_in_a_week"
      ],
      "metadata": {
        "colab": {
          "base_uri": "https://localhost:8080/"
        },
        "id": "G2LyLWNAmLj7",
        "outputId": "19fe2c76-4fb4-4e14-bd02-c3db7b8780a1"
      },
      "execution_count": 2,
      "outputs": [
        {
          "output_type": "execute_result",
          "data": {
            "text/plain": [
              "604800"
            ]
          },
          "metadata": {},
          "execution_count": 2
        }
      ]
    },
    {
      "cell_type": "code",
      "source": [
        "import numpy as np\n",
        "import IPython.display as display\n",
        "from matplotlib import pyplot as plt\n",
        "import io\n",
        "import base64\n",
        "\n",
        "ys = 200 + np.random.randn(100)\n",
        "x = [x for x in range(len(ys))]\n",
        "\n",
        "fig = plt.figure(figsize=(4, 3), facecolor='w')\n",
        "plt.plot(x, ys, '-')\n",
        "plt.fill_between(x, ys, 195, where=(ys > 195), facecolor='g', alpha=0.6)\n",
        "plt.title(\"Sample Visualization\", fontsize=10)\n",
        "\n",
        "data = io.BytesIO()\n",
        "plt.savefig(data)\n",
        "image = F\"data:image/png;base64,{base64.b64encode(data.getvalue()).decode()}\"\n",
        "alt = \"Sample Visualization\"\n",
        "display.display(display.Markdown(F\"\"\"![{alt}]({image})\"\"\"))\n",
        "plt.close(fig)"
      ],
      "metadata": {
        "colab": {
          "base_uri": "https://localhost:8080/",
          "height": 334
        },
        "id": "7-zQwnsmmNsz",
        "outputId": "046f1e22-e4c1-4304-ce49-92c125057e62"
      },
      "execution_count": 3,
      "outputs": [
        {
          "output_type": "display_data",
          "data": {
            "text/plain": [
              "<IPython.core.display.Markdown object>"
            ],
            "text/markdown": "![Sample Visualization](data:image/png;base64,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)"
          },
          "metadata": {}
        }
      ]
    },
    {
      "source": [
        "from google.colab import drive\n",
        "drive.mount('/content/drive') # Mount to the directory '/content/drive'"
      ],
      "cell_type": "code",
      "metadata": {
        "colab": {
          "base_uri": "https://localhost:8080/"
        },
        "id": "9ZzPmLwwm1sZ",
        "outputId": "9807ba45-a79d-4746-dadd-888a209d6ade"
      },
      "execution_count": 5,
      "outputs": [
        {
          "output_type": "stream",
          "name": "stdout",
          "text": [
            "Mounted at /content/drive\n"
          ]
        }
      ]
    },
    {
      "cell_type": "code",
      "source": [
        "import numpy as np\n",
        "import pandas as pd\n",
        "import scipy as sc\n",
        "import statistics as stat\n",
        "from scipy.stats import skew\n",
        "from scipy.stats import kurtosis\n",
        "from scipy.stats import iqr\n",
        "import matplotlib.pyplot as plt\n",
        "a = pd.read_csv('/content/housing[1].csv')\n",
        "print(a)\n",
        "print(a.columns)"
      ],
      "metadata": {
        "colab": {
          "base_uri": "https://localhost:8080/"
        },
        "id": "KJi0ImeBm7Dj",
        "outputId": "3cfb30f7-5c5b-4661-8d8f-371229e9163e"
      },
      "execution_count": 21,
      "outputs": [
        {
          "output_type": "stream",
          "name": "stdout",
          "text": [
            "       longitude  latitude  housing_median_age  total_rooms  total_bedrooms  \\\n",
            "0        -122.23     37.88                41.0        880.0           129.0   \n",
            "1        -122.22     37.86                21.0       7099.0          1106.0   \n",
            "2        -122.24     37.85                52.0       1467.0           190.0   \n",
            "3        -122.25     37.85                52.0       1274.0           235.0   \n",
            "4        -122.25     37.85                52.0       1627.0           280.0   \n",
            "...          ...       ...                 ...          ...             ...   \n",
            "20635    -121.09     39.48                25.0       1665.0           374.0   \n",
            "20636    -121.21     39.49                18.0        697.0           150.0   \n",
            "20637    -121.22     39.43                17.0       2254.0           485.0   \n",
            "20638    -121.32     39.43                18.0       1860.0           409.0   \n",
            "20639    -121.24     39.37                16.0       2785.0           616.0   \n",
            "\n",
            "       population  households  median_income  median_house_value  \\\n",
            "0           322.0       126.0         8.3252            452600.0   \n",
            "1          2401.0      1138.0         8.3014            358500.0   \n",
            "2           496.0       177.0         7.2574            352100.0   \n",
            "3           558.0       219.0         5.6431            341300.0   \n",
            "4           565.0       259.0         3.8462            342200.0   \n",
            "...           ...         ...            ...                 ...   \n",
            "20635       845.0       330.0         1.5603             78100.0   \n",
            "20636       356.0       114.0         2.5568             77100.0   \n",
            "20637      1007.0       433.0         1.7000             92300.0   \n",
            "20638       741.0       349.0         1.8672             84700.0   \n",
            "20639      1387.0       530.0         2.3886             89400.0   \n",
            "\n",
            "      ocean_proximity  \n",
            "0            NEAR BAY  \n",
            "1            NEAR BAY  \n",
            "2            NEAR BAY  \n",
            "3            NEAR BAY  \n",
            "4            NEAR BAY  \n",
            "...               ...  \n",
            "20635          INLAND  \n",
            "20636          INLAND  \n",
            "20637          INLAND  \n",
            "20638          INLAND  \n",
            "20639          INLAND  \n",
            "\n",
            "[20640 rows x 10 columns]\n",
            "Index(['longitude', 'latitude', 'housing_median_age', 'total_rooms',\n",
            "       'total_bedrooms', 'population', 'households', 'median_income',\n",
            "       'median_house_value', 'ocean_proximity'],\n",
            "      dtype='object')\n"
          ]
        }
      ]
    }
  ]
}