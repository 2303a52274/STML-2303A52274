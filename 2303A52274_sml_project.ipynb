{
  "nbformat": 4,
  "nbformat_minor": 0,
  "metadata": {
    "colab": {
      "provenance": [],
      "authorship_tag": "ABX9TyMDiaTd4Z1P61XYOCP0hPQz",
      "include_colab_link": true
    },
    "kernelspec": {
      "name": "python3",
      "display_name": "Python 3"
    },
    "language_info": {
      "name": "python"
    }
  },
  "cells": [
    {
      "cell_type": "markdown",
      "metadata": {
        "id": "view-in-github",
        "colab_type": "text"
      },
      "source": [
        "<a href=\"https://colab.research.google.com/github/2303a52274/STML-2303A52274/blob/main/2303A52274_sml_project.ipynb\" target=\"_parent\"><img src=\"https://colab.research.google.com/assets/colab-badge.svg\" alt=\"Open In Colab\"/></a>"
      ]
    },
    {
      "cell_type": "code",
      "execution_count": 1,
      "metadata": {
        "colab": {
          "base_uri": "https://localhost:8080/"
        },
        "id": "9HWGEK7m3IZa",
        "outputId": "cda834e1-3ef0-4076-bda0-d02c907c8c7a"
      },
      "outputs": [
        {
          "output_type": "stream",
          "name": "stdout",
          "text": [
            "   ID  Experience_Years  Age  Gender  Salary\n",
            "0   1                 5   28  Female  250000\n",
            "1   2                 1   21    Male   50000\n",
            "2   3                 3   23  Female  170000\n",
            "3   4                 2   22    Male   25000\n",
            "4   5                 1   17    Male   10000\n"
          ]
        }
      ],
      "source": [
        "import pandas as pd\n",
        "import numpy as np\n",
        "d=pd.read_csv(\"/content/Employee_Salary_Dataset.csv\")\n",
        "print(d.head())\n"
      ]
    },
    {
      "cell_type": "code",
      "source": [
        "X=d.drop(['Salary','ID'],axis=1)\n",
        "mle_params={}\n",
        "y=d[\"Salary\"]\n",
        "print(\"target:\")\n",
        "print(y.head())\n",
        "print(\"shape:\",y.shape)\n",
        "print(\"features:\")\n",
        "print(X.head())"
      ],
      "metadata": {
        "colab": {
          "base_uri": "https://localhost:8080/"
        },
        "id": "0w1NfpXs4S6m",
        "outputId": "924fe6c0-0666-4ad6-d776-f7491a5cfdc4"
      },
      "execution_count": 2,
      "outputs": [
        {
          "output_type": "stream",
          "name": "stdout",
          "text": [
            "target:\n",
            "0    250000\n",
            "1     50000\n",
            "2    170000\n",
            "3     25000\n",
            "4     10000\n",
            "Name: Salary, dtype: int64\n",
            "shape: (35,)\n",
            "features:\n",
            "   Experience_Years  Age  Gender\n",
            "0                 5   28  Female\n",
            "1                 1   21    Male\n",
            "2                 3   23  Female\n",
            "3                 2   22    Male\n",
            "4                 1   17    Male\n"
          ]
        }
      ]
    },
    {
      "cell_type": "code",
      "source": [
        "S=X.replace({'Female':0,'Male':1,'Yes':1,'No':0})\n",
        "print(S.head())"
      ],
      "metadata": {
        "colab": {
          "base_uri": "https://localhost:8080/"
        },
        "id": "DfyY7GkD4Z1j",
        "outputId": "373e33ec-546b-4037-9a64-b30a9089c04c"
      },
      "execution_count": 3,
      "outputs": [
        {
          "output_type": "stream",
          "name": "stdout",
          "text": [
            "   Experience_Years  Age  Gender\n",
            "0                 5   28       0\n",
            "1                 1   21       1\n",
            "2                 3   23       0\n",
            "3                 2   22       1\n",
            "4                 1   17       1\n"
          ]
        },
        {
          "output_type": "stream",
          "name": "stderr",
          "text": [
            "<ipython-input-3-e71453c97105>:1: FutureWarning: Downcasting behavior in `replace` is deprecated and will be removed in a future version. To retain the old behavior, explicitly call `result.infer_objects(copy=False)`. To opt-in to the future behavior, set `pd.set_option('future.no_silent_downcasting', True)`\n",
            "  S=X.replace({'Female':0,'Male':1,'Yes':1,'No':0})\n"
          ]
        }
      ]
    },
    {
      "cell_type": "code",
      "source": [
        "from sklearn.model_selection import train_test_split\n",
        "X_train, X_test, y_train, y_test = train_test_split(S, y , test_size=0.2, random_state=30)\n",
        "print(\"X_train:\",X_train)\n",
        "print(\"X_test:\",X_test)\n",
        "print(\"Y_train:\",y_train)\n",
        "print(\"Y_train:\",y_test)"
      ],
      "metadata": {
        "colab": {
          "base_uri": "https://localhost:8080/"
        },
        "id": "78VGQmWO4ziM",
        "outputId": "7b90d41b-d9a4-4ef2-99ef-94e911332092"
      },
      "execution_count": 4,
      "outputs": [
        {
          "output_type": "stream",
          "name": "stdout",
          "text": [
            "X_train:     Experience_Years  Age  Gender\n",
            "24                 4   23       0\n",
            "32                20   55       0\n",
            "4                  1   17       1\n",
            "25                 3   22       0\n",
            "31                15   54       1\n",
            "15                 4   27       0\n",
            "11                 6   29       1\n",
            "22                 5   29       1\n",
            "0                  5   28       0\n",
            "34                16   49       1\n",
            "6                 19   54       0\n",
            "19                10   36       1\n",
            "18                 2   21       1\n",
            "30                10   34       1\n",
            "13                11   40       1\n",
            "29                 2   21       0\n",
            "1                  1   21       1\n",
            "33                19   53       0\n",
            "7                  2   21       0\n",
            "9                 15   54       0\n",
            "3                  2   22       1\n",
            "14                 2   23       1\n",
            "17                15   54       0\n",
            "27                27   62       0\n",
            "21                 4   26       1\n",
            "2                  3   23       0\n",
            "23                 1   21       0\n",
            "12                14   39       1\n",
            "X_test:     Experience_Years  Age  Gender\n",
            "16                10   34       0\n",
            "5                 25   62       1\n",
            "28                19   54       0\n",
            "20                15   54       1\n",
            "8                 10   36       0\n",
            "10                 4   26       0\n",
            "26                 1   18       1\n",
            "Y_train: 24        8900\n",
            "32     1540000\n",
            "4        10000\n",
            "25       20000\n",
            "31      900000\n",
            "15       87000\n",
            "11     1400000\n",
            "22     6845000\n",
            "0       250000\n",
            "34     7600000\n",
            "6       800000\n",
            "19      330000\n",
            "18       15000\n",
            "30       80000\n",
            "13      220100\n",
            "29        6100\n",
            "1        50000\n",
            "33     9300000\n",
            "7         9000\n",
            "9       650000\n",
            "3        25000\n",
            "14        7500\n",
            "17     7900000\n",
            "27    10000000\n",
            "21       25000\n",
            "2       170000\n",
            "23        6000\n",
            "12     6000050\n",
            "Name: Salary, dtype: int64\n",
            "Y_train: 16     930000\n",
            "5     5001000\n",
            "28    5000000\n",
            "20    6570000\n",
            "8       61500\n",
            "10     250000\n",
            "26       3000\n",
            "Name: Salary, dtype: int64\n"
          ]
        }
      ]
    },
    {
      "cell_type": "code",
      "source": [
        "from sklearn.linear_model import LinearRegression\n",
        "RR= LinearRegression()\n",
        "mm=RR.fit(X_train, y_train)\n",
        "print(mm.intercept_)\n",
        "print(mm.coef_)"
      ],
      "metadata": {
        "colab": {
          "base_uri": "https://localhost:8080/"
        },
        "id": "HZDBLIZr5A_Y",
        "outputId": "76ede5aa-73f2-4f6e-a791-6c385a5182a4"
      },
      "execution_count": 5,
      "outputs": [
        {
          "output_type": "stream",
          "name": "stdout",
          "text": [
            "1101424.2768121592\n",
            "[ 496868.42595833 -103740.63915749  324544.08457495]\n"
          ]
        }
      ]
    },
    {
      "cell_type": "code",
      "source": [
        "from sklearn.metrics import mean_squared_error\n",
        "from sklearn.metrics import mean_absolute_error\n",
        "from sklearn.metrics import root_mean_squared_error\n",
        "print(mean_squared_error(y_train,mm.predict(X_train)))\n",
        "print(mean_absolute_error(y_train,mm.predict(X_train)))\n",
        "print(root_mean_squared_error(y_train,mm.predict(X_train)))\n",
        "print(mean_squared_error(y_test,mm.predict(X_test)))\n",
        "print(mean_absolute_error(y_test,mm.predict(X_test)))\n",
        "print(root_mean_squared_error(y_test,mm.predict(X_test)))\n"
      ],
      "metadata": {
        "colab": {
          "base_uri": "https://localhost:8080/"
        },
        "id": "fjB0NoI55G7t",
        "outputId": "17b05067-e460-4a32-9a4d-eabc1b20591a"
      },
      "execution_count": 6,
      "outputs": [
        {
          "output_type": "stream",
          "name": "stdout",
          "text": [
            "5683490222262.789\n",
            "1650606.2537520735\n",
            "2384007.1774771963\n",
            "3496242708463.1187\n",
            "1406978.3239479437\n",
            "1869824.2453404863\n"
          ]
        }
      ]
    },
    {
      "cell_type": "code",
      "source": [
        "from sklearn.svm import SVR\n",
        "ss= SVR()\n",
        "sv=ss.fit(X_train, y_train)\n",
        "print(sv.intercept_)"
      ],
      "metadata": {
        "colab": {
          "base_uri": "https://localhost:8080/"
        },
        "id": "ObzsrfRW5MQd",
        "outputId": "aa325aee-c7c5-454e-d4b8-6f3f731759b0"
      },
      "execution_count": 7,
      "outputs": [
        {
          "output_type": "stream",
          "name": "stdout",
          "text": [
            "[195052.29414782]\n"
          ]
        }
      ]
    },
    {
      "cell_type": "code",
      "source": [
        "from sklearn.metrics import mean_squared_error\n",
        "from sklearn.metrics import mean_absolute_error\n",
        "from sklearn.metrics import root_mean_squared_error\n",
        "print(mean_squared_error(y_train,sv.predict(X_train)))\n",
        "print(mean_absolute_error(y_train,sv.predict(X_train)))\n",
        "print(root_mean_squared_error(y_train,sv.predict(X_train)))\n",
        "print(mean_squared_error(y_test,sv.predict(X_test)))\n",
        "print(mean_absolute_error(y_test,sv.predict(X_test)))\n",
        "print(root_mean_squared_error(y_test,sv.predict(X_test)))\n"
      ],
      "metadata": {
        "colab": {
          "base_uri": "https://localhost:8080/"
        },
        "id": "ImQGyLrn5Rcl",
        "outputId": "7f8d06d3-677e-4946-cb5a-cd357f4fcef8"
      },
      "execution_count": 8,
      "outputs": [
        {
          "output_type": "stream",
          "name": "stdout",
          "text": [
            "13424499134498.268\n",
            "1900553.967635239\n",
            "3663945.842189574\n",
            "12488895425177.576\n",
            "2443045.724171244\n",
            "3533963.132968081\n"
          ]
        }
      ]
    },
    {
      "cell_type": "code",
      "source": [
        "from sklearn.linear_model import Lasso\n",
        "cc= Lasso()\n",
        "lr=cc.fit(X_train, y_train)\n",
        "print(lr.intercept_)\n",
        "print(lr.coef_)"
      ],
      "metadata": {
        "colab": {
          "base_uri": "https://localhost:8080/"
        },
        "id": "OyLAPoMj5ZL0",
        "outputId": "53b31eaa-2b46-460d-92e9-3dc55bf3a6d4"
      },
      "execution_count": 9,
      "outputs": [
        {
          "output_type": "stream",
          "name": "stdout",
          "text": [
            "1101422.3199359574\n",
            "[ 496867.86116467 -103740.38065829  324539.91108861]\n"
          ]
        }
      ]
    },
    {
      "cell_type": "code",
      "source": [
        "from sklearn.metrics import mean_squared_error\n",
        "from sklearn.metrics import mean_absolute_error\n",
        "from sklearn.metrics import root_mean_squared_error\n",
        "print(mean_squared_error(y_train,lr.predict(X_train)))\n",
        "print(mean_absolute_error(y_train,lr.predict(X_train)))\n",
        "print(root_mean_squared_error(y_train,lr.predict(X_train)))\n",
        "print(mean_squared_error(y_test,lr.predict(X_test)))\n",
        "print(mean_absolute_error(y_test,lr.predict(X_test)))\n",
        "print(root_mean_squared_error(y_test,lr.predict(X_test)))\n"
      ],
      "metadata": {
        "colab": {
          "base_uri": "https://localhost:8080/"
        },
        "id": "skZ0QSUd5eex",
        "outputId": "f118001d-94b8-42d2-ad48-03e16b620002"
      },
      "execution_count": 10,
      "outputs": [
        {
          "output_type": "stream",
          "name": "stdout",
          "text": [
            "5683490222267.796\n",
            "1650606.2715809639\n",
            "2384007.1774782464\n",
            "3496242099843.1606\n",
            "1406978.1092525278\n",
            "1869824.082592574\n"
          ]
        }
      ]
    },
    {
      "cell_type": "code",
      "source": [
        "from sklearn.linear_model import Ridge\n",
        "tt= Ridge()\n",
        "rr=tt.fit(X_train, y_train)\n",
        "print(rr.intercept_)\n",
        "print(rr.coef_)"
      ],
      "metadata": {
        "colab": {
          "base_uri": "https://localhost:8080/"
        },
        "id": "Frg1arTV5jMP",
        "outputId": "84fd0f9e-f088-4816-c4ca-29e60d4b232a"
      },
      "execution_count": 11,
      "outputs": [
        {
          "output_type": "stream",
          "name": "stdout",
          "text": [
            "1070820.2093359465\n",
            "[ 489762.64966352 -100461.96148068  282195.18694048]\n"
          ]
        }
      ]
    },
    {
      "cell_type": "code",
      "source": [
        "from sklearn.metrics import mean_squared_error\n",
        "from sklearn.metrics import mean_absolute_error\n",
        "from sklearn.metrics import root_mean_squared_error\n",
        "print(mean_squared_error(y_train,lr.predict(X_train)))\n",
        "print(mean_absolute_error(y_train,lr.predict(X_train)))\n",
        "print(root_mean_squared_error(y_train,lr.predict(X_train)))\n",
        "print(mean_squared_error(y_test,lr.predict(X_test)))\n",
        "print(mean_absolute_error(y_test,lr.predict(X_test)))\n",
        "print(root_mean_squared_error(y_test,lr.predict(X_test)))\n"
      ],
      "metadata": {
        "colab": {
          "base_uri": "https://localhost:8080/"
        },
        "id": "ap7AxYSm6-iw",
        "outputId": "45b82dfa-c124-4b7b-de35-a83035a49a7d"
      },
      "execution_count": 13,
      "outputs": [
        {
          "output_type": "stream",
          "name": "stdout",
          "text": [
            "5683490222267.796\n",
            "1650606.2715809639\n",
            "2384007.1774782464\n",
            "3496242099843.1606\n",
            "1406978.1092525278\n",
            "1869824.082592574\n"
          ]
        }
      ]
    },
    {
      "cell_type": "code",
      "source": [
        "from sklearn.neighbors import KNeighborsRegressor\n",
        "from sklearn.metrics import mean_squared_error\n",
        "knn = KNeighborsRegressor(n_neighbors=5)\n",
        "knn.fit(X_train, y_train)\n",
        "print(mean_squared_error(y_train,knn.predict(X_train)))\n",
        "print(mean_squared_error(y_test,knn.predict(X_test)))\n"
      ],
      "metadata": {
        "colab": {
          "base_uri": "https://localhost:8080/"
        },
        "id": "1c8QcrWq6sab",
        "outputId": "2da78d12-d235-488f-f066-7262c3bf6dee"
      },
      "execution_count": 15,
      "outputs": [
        {
          "output_type": "stream",
          "name": "stdout",
          "text": [
            "6078088202753.571\n",
            "1586714761514.2856\n"
          ]
        }
      ]
    }
  ]
}